{
 "cells": [
  {
   "cell_type": "markdown",
   "metadata": {},
   "source": [
    "# MNIST Sequence Classification "
   ]
  },
  {
   "cell_type": "code",
   "execution_count": 5,
   "metadata": {},
   "outputs": [],
   "source": [
    "from __future__ import unicode_literals, print_function, division\n",
    "from io import open\n",
    "import glob\n",
    "import os\n",
    "import numpy as np\n",
    "import torch\n",
    "import torch.nn as nn\n",
    "from tqdm import tqdm"
   ]
  },
  {
   "cell_type": "markdown",
   "metadata": {},
   "source": [
    "## Set Parameter"
   ]
  },
  {
   "cell_type": "code",
   "execution_count": 6,
   "metadata": {},
   "outputs": [],
   "source": [
    "# Data params\n",
    "noise_var = 0\n",
    "num_datapoints = 100\n",
    "test_size = 0.2\n",
    "num_train = int((1 - test_size) * num_datapoints)\n",
    "\n",
    "# Network params\n",
    "input_size = 2\n",
    "hidden_layer = 128\n",
    "output_dim = 10\n",
    "num_layers = 2\n",
    "num_epochs = 500\n",
    "dtype = torch.float\n",
    "input_seq = 100\n",
    "pred_length = 1\n",
    "batch_size = 32\n",
    "train_samples = 10\n",
    "test_samples = 100"
   ]
  },
  {
   "cell_type": "markdown",
   "metadata": {},
   "source": [
    "## Load data"
   ]
  },
  {
   "cell_type": "code",
   "execution_count": 7,
   "metadata": {},
   "outputs": [
    {
     "name": "stdout",
     "output_type": "stream",
     "text": [
      "(60000, 100, 2)\n",
      "(60000, 1)\n"
     ]
    }
   ],
   "source": [
    "def load_data(train=True, seq_pred=True):\n",
    "    extract_file = './sequences/extracted_data_label.npz'\n",
    "    if not os.path.isfile(extract_file):\n",
    "        data = []\n",
    "        label = []\n",
    "        max_seq_len = 0\n",
    "        for file in tqdm(os.listdir('./sequences/')):\n",
    "            if file.endswith('inputdata.txt'):\n",
    "                curr_seq = np.loadtxt(os.path.join('./sequences/', file), delimiter=' ')\n",
    "                data.append(np.cumsum(curr_seq[:, 0:2], axis=0))\n",
    "                if curr_seq.shape[0] > max_seq_len:\n",
    "                    max_seq_len = curr_seq.shape[0]\n",
    "                target_file = file.replace('inputdata', 'targetdata')\n",
    "                tar_seq = np.loadtxt(os.path.join('./sequences/', target_file), delimiter=' ')\n",
    "                tmp_label = tar_seq[0, 0:10]\n",
    "                tmp_label = np.where(tmp_label==1)[0]\n",
    "                label.append(tmp_label)\n",
    "        for i in range(len(data)):\n",
    "            if data[i].shape[0] < max_seq_len:\n",
    "                data[i] = np.concatenate(\n",
    "                    [data[i], np.array([data[i][-1, :].tolist(), ] * (max_seq_len - data[i].shape[0]))], axis=0)\n",
    "        data = np.array(data)\n",
    "        label = np.array(label)\n",
    "        np.savez(extract_file, data, label)\n",
    "    else:\n",
    "        data_label = np.load(extract_file)\n",
    "        data = data_label[data_label.files[0]]\n",
    "        label = data_label[data_label.files[1]]\n",
    "    if seq_pred:\n",
    "        if train:\n",
    "            x = data[0:60000, 0:input_seq, :]\n",
    "            y = data[0:60000, input_seq:input_seq+pred_length, :]\n",
    "            x = x[0:int(x.shape[0] / batch_size) * batch_size, :]\n",
    "            y = y[0:int(x.shape[0] / batch_size) * batch_size, :]\n",
    "\n",
    "            return (x, y)\n",
    "        else:\n",
    "            x = data[60000:, 0:input_seq, :]\n",
    "            y = data[60000:, input_seq:input_seq+pred_length, :]\n",
    "            x = x[0:int(x.shape[0] / batch_size) * batch_size, :]\n",
    "            y = y[0:int(x.shape[0] / batch_size) * batch_size, :]\n",
    "            return (x, y)\n",
    "    else:\n",
    "        if train:\n",
    "            x = data[0:60000, 0:input_seq, :]\n",
    "            y = label[0:60000, :]\n",
    "            x = x[0:int(x.shape[0] / batch_size) * batch_size, :]\n",
    "            y = y[0:int(x.shape[0] / batch_size) * batch_size, :]\n",
    "            return (x, y)\n",
    "        else:\n",
    "            x = data[60000:, 0:input_seq, :]\n",
    "            y = label[60000:, :]\n",
    "            x = x[0:int(x.shape[0] / batch_size) * batch_size, :]\n",
    "            y = y[0:int(x.shape[0] / batch_size) * batch_size, :]\n",
    "            return (x, y)\n",
    "\n",
    "(x_data, y_data) = load_data(True, seq_pred=False)\n",
    "(x_data_test, y_data_test) = load_data(False, seq_pred=False)\n",
    "\n",
    "output_seq = y_data.shape[1]\n",
    "print(x_data.shape)\n",
    "print(y_data.shape)"
   ]
  },
  {
   "cell_type": "code",
   "execution_count": 8,
   "metadata": {},
   "outputs": [],
   "source": [
    "class BatchGenerator(object):\n",
    "    def __init__(self, data_x, data_y, batch_size=batch_size, output_seq=output_seq, n_action=2):\n",
    "        self.data_x = data_x  # np.reshape(data_x, (data_x.shape[0], -1))\n",
    "        self.data_y = data_y  # np.reshape(data_y, (data_y.shape[0], -1))\n",
    "        self.batch_size = batch_size\n",
    "        self.output_seq = output_seq\n",
    "        self.n_action = n_action\n",
    "\n",
    "    def sample(self, batch_size=None):\n",
    "        if batch_size is None:\n",
    "            batch_size = self.batch_size\n",
    "        indices = np.random.randint(0, len(self.data_x), batch_size)\n",
    "        x_batch = torch.tensor(self.data_x[indices, :, :]).to(torch.float)\n",
    "        y_batch = torch.tensor(self.data_y[indices, :]).squeeze(1).to(torch.long)\n",
    "        return x_batch, y_batch"
   ]
  },
  {
   "cell_type": "markdown",
   "metadata": {},
   "source": [
    "## Build Model"
   ]
  },
  {
   "cell_type": "code",
   "execution_count": 9,
   "metadata": {},
   "outputs": [],
   "source": [
    "class RNN(nn.Module):\n",
    "    def __init__(self, input_size, hidden_size, batch_size, output_size):\n",
    "        super(RNN, self).__init__()\n",
    "\n",
    "        self.hidden_size = hidden_size\n",
    "        self.batch_size = batch_size\n",
    "\n",
    "        self.i2h = nn.Linear(input_size + hidden_size, hidden_size)\n",
    "        self.i2o = nn.Linear(input_size + hidden_size, output_size)\n",
    "        self.softmax = nn.LogSoftmax(dim=1)\n",
    "\n",
    "    def forward(self, input, hidden):\n",
    "        combined = torch.cat((input, hidden), 1)\n",
    "        hidden = self.i2h(combined)\n",
    "        output = self.i2o(combined)\n",
    "        output = self.softmax(output)\n",
    "        return output, hidden\n",
    "\n",
    "    def initHidden(self):\n",
    "        return torch.zeros(self.batch_size, self.hidden_size)\n",
    "\n",
    "rnn = RNN(input_size, hidden_layer, batch_size, output_dim)\n",
    "train_data_generator = BatchGenerator(x_data, y_data, batch_size=batch_size)\n",
    "test_data_generator = BatchGenerator(x_data_test, y_data_test, batch_size=batch_size)"
   ]
  },
  {
   "cell_type": "markdown",
   "metadata": {},
   "source": [
    "### Test Model"
   ]
  },
  {
   "cell_type": "code",
   "execution_count": 10,
   "metadata": {},
   "outputs": [
    {
     "name": "stdout",
     "output_type": "stream",
     "text": [
      "torch.Size([32, 100, 2])\n",
      "tensor([[-2.1101, -3.5716, -2.4679, -2.9197, -2.7238, -1.7236, -1.6601, -2.7064,\n",
      "         -2.2194, -2.2794]], grad_fn=<LogSoftmaxBackward>)\n",
      "tensor([[-2.2607, -3.3950, -1.7113, -3.1146, -3.1604, -2.0007, -1.5990, -3.0767,\n",
      "         -2.3047, -2.1937]], grad_fn=<LogSoftmaxBackward>)\n"
     ]
    }
   ],
   "source": [
    "x_batch, y_batch = train_data_generator.sample()\n",
    "print(x_batch.shape)\n",
    "\n",
    "# hidden Layer initialization\n",
    "hidden = torch.zeros(1, hidden_layer).to(torch.float)\n",
    "\n",
    "in_sample = x_batch[0, 0, :].unsqueeze(0)\n",
    "output, next_hidden = rnn(in_sample, hidden)\n",
    "print(output)\n",
    "\n",
    "in_sample = x_batch[0, 1, :].unsqueeze(0)\n",
    "output, next_hidden = rnn(in_sample, next_hidden)\n",
    "print(output)"
   ]
  },
  {
   "cell_type": "markdown",
   "metadata": {},
   "source": [
    "## Train Function  "
   ]
  },
  {
   "cell_type": "code",
   "execution_count": 18,
   "metadata": {},
   "outputs": [],
   "source": [
    "loss_fn = torch.nn.NLLLoss()\n",
    "learning_rate = 5e-4\n",
    "optimiser = torch.optim.Adam(rnn.parameters(), lr=learning_rate)\n",
    "\n",
    "def train(x_tensor, y_tensor):\n",
    "    hidden = rnn.initHidden()\n",
    "\n",
    "    rnn.zero_grad()\n",
    "\n",
    "    for i in range(x_tensor.size()[1]):\n",
    "        input_tensor = x_tensor[:, i, :]\n",
    "        output, hidden = rnn(input_tensor, hidden)\n",
    "\n",
    "    loss = loss_fn(output, y_tensor)\n",
    "\n",
    "    # Zero out gradient, else they will accumulate between epochs\n",
    "    optimiser.zero_grad()\n",
    "\n",
    "    # Backward pass\n",
    "    loss.backward()\n",
    "\n",
    "    # Update parameters\n",
    "    optimiser.step()\n",
    "\n",
    "    return output, loss.item()\n",
    "\n",
    "\n",
    "def predict(x_tensor, y_tensor, test_size):\n",
    "    with torch.no_grad():\n",
    "        hidden = torch.zeros(test_size, hidden_layer).to(torch.float)\n",
    "\n",
    "        for i in range(x_tensor.size()[1]):\n",
    "            input_tensor = x_tensor[:, i, :]\n",
    "            output, hidden = rnn(input_tensor, hidden)\n",
    "\n",
    "        loss = loss_fn(output, y_tensor)\n",
    "    predictions = np.argmax(output.cpu().numpy(), axis=1)\n",
    "    correct_predictions = (predictions == y_tensor.cpu().numpy()).astype(int)\n",
    "    acc = np.mean(correct_predictions)\n",
    "    return loss.item(), acc"
   ]
  },
  {
   "cell_type": "markdown",
   "metadata": {},
   "source": [
    "## Train Model"
   ]
  },
  {
   "cell_type": "code",
   "execution_count": 19,
   "metadata": {},
   "outputs": [
    {
     "name": "stdout",
     "output_type": "stream",
     "text": [
      "current_loss:  15.792415270805359\n",
      "current_test_loss:  13.665740966796875\n",
      "current_loss:  18.779284076690672\n",
      "current_test_loss:  9.290006637573242\n",
      "current_loss:  8.580991374254227\n",
      "current_test_loss:  7.327641487121582\n",
      "current_loss:  6.668013379573822\n",
      "current_test_loss:  5.5199151039123535\n",
      "current_loss:  4.442737505435944\n",
      "current_test_loss:  4.1525373458862305\n",
      "current_loss:  3.888294370174408\n",
      "current_test_loss:  4.270051956176758\n",
      "current_loss:  3.3565750336647033\n",
      "current_test_loss:  3.6321611404418945\n",
      "current_loss:  2.8991731715202333\n",
      "current_test_loss:  2.7232325077056885\n",
      "current_loss:  2.363468704223633\n",
      "current_test_loss:  2.043994188308716\n",
      "current_loss:  1.901738691329956\n",
      "current_test_loss:  1.8412654399871826\n",
      "current_loss:  1.7952604627609252\n",
      "current_test_loss:  1.8340685367584229\n",
      "current_loss:  1.7968754827976228\n",
      "current_test_loss:  1.8726400136947632\n",
      "current_loss:  1.7027635502815246\n",
      "current_test_loss:  1.6815760135650635\n",
      "current_loss:  1.7334135043621064\n",
      "current_test_loss:  1.667609691619873\n",
      "current_loss:  1.6085825145244599\n",
      "current_test_loss:  1.6260873079299927\n",
      "current_loss:  1.6247597110271454\n",
      "current_test_loss:  1.6910187005996704\n",
      "current_loss:  1.654691950082779\n",
      "current_test_loss:  1.6788148880004883\n",
      "current_loss:  1.6176403892040252\n",
      "current_test_loss:  1.6675716638565063\n",
      "current_loss:  1.628953367471695\n",
      "current_test_loss:  1.591091513633728\n",
      "current_loss:  1.6140814018249512\n",
      "current_test_loss:  1.598547339439392\n"
     ]
    }
   ],
   "source": [
    "import time\n",
    "import math\n",
    "\n",
    "n_iters = 2000\n",
    "plot_every = 100\n",
    "test_size = 2048\n",
    "\n",
    "# Keep track of losses for plotting\n",
    "current_loss = 0\n",
    "all_losses = []\n",
    "all_test_losses = []\n",
    "\n",
    "\n",
    "def timeSince(since):\n",
    "    now = time.time()\n",
    "    s = now - since\n",
    "    m = math.floor(s / 60)\n",
    "    s -= m * 60\n",
    "    return '%dm %ds' % (m, s)\n",
    "\n",
    "start = time.time()\n",
    "\n",
    "for iter in range(1, n_iters + 1):\n",
    "    x_batch, y_batch = train_data_generator.sample()\n",
    "    # category, line, category_tensor, line_tensor = randomTrainingExample()\n",
    "    output, loss = train(x_batch, y_batch)\n",
    "    current_loss += loss\n",
    "\n",
    "    # Add current loss avg to list of losses\n",
    "    if iter % plot_every == 0:\n",
    "        print(\"current_loss: \", current_loss/plot_every)\n",
    "        all_losses.append(current_loss/plot_every)\n",
    "        current_loss = 0\n",
    "        # test_loss\n",
    "        x_test_batch, y_test_batch = test_data_generator.sample(batch_size=test_size)\n",
    "        test_loss, accuracy = predict(x_test_batch, y_test_batch, test_size)\n",
    "        print(\"current_test_loss: \", test_loss)\n",
    "        print(\"current_test_accuracy: \", accuracy)\n",
    "        all_test_losses.append(test_loss)"
   ]
  },
  {
   "cell_type": "markdown",
   "metadata": {},
   "source": [
    "## Plot Results "
   ]
  },
  {
   "cell_type": "code",
   "execution_count": 20,
   "metadata": {},
   "outputs": [
    {
     "data": {
      "text/plain": [
       "[<matplotlib.lines.Line2D at 0x19de75b09b0>]"
      ]
     },
     "execution_count": 20,
     "metadata": {},
     "output_type": "execute_result"
    },
    {
     "data": {
      "image/png": "[encoded data removed]",
      "text/plain": [
       "<Figure size 432x288 with 1 Axes>"
      ]
     },
     "metadata": {
      "needs_background": "light"
     },
     "output_type": "display_data"
    }
   ],
   "source": [
    "from IPython.display import clear_output\n",
    "import matplotlib.pyplot as plt\n",
    "%matplotlib inline\n",
    "import matplotlib.ticker as ticker\n",
    "\n",
    "plt.figure()\n",
    "plt.plot(all_losses)\n",
    "plt.plot(all_test_losses)"
   ]
  },
  {
   "cell_type": "code",
   "execution_count": null,
   "metadata": {},
   "outputs": [],
   "source": []
  }
 ],
 "metadata": {
  "kernelspec": {
   "display_name": "Python 3",
   "language": "python",
   "name": "python3"
  },
  "language_info": {
   "codemirror_mode": {
    "name": "ipython",
    "version": 3
   },
   "file_extension": ".py",
   "mimetype": "text/x-python",
   "name": "python",
   "nbconvert_exporter": "python",
   "pygments_lexer": "ipython3",
   "version": "3.6.6"
  }
 },
 "nbformat": 4,
 "nbformat_minor": 4
}
