{
 "cells": [
  {
   "cell_type": "markdown",
   "metadata": {},
   "source": [
    "In this Task the MNIST Sequence Dataset is used(see https://github.com/edwin-de-jong/mnist-digits-stroke-sequence-data/wiki/MNIST-digits-stroke-sequence-data) to train a sequence prediction model. The dataset consists of sequences generated from the famous MNIST dataset. Based on an input sequences our Model has to predict the remaining sequence. To process the input sequence an encoder model is used. To predict the future sequence a decoder model is used. Additionally a AttentionDecoder is implemented however the code has to be changed to use this Decoder \n",
    "\n",
    "![Bild1.png](attachment:Bild1.png)\n",
    "\n",
    "This Tutorial is based on the PyTorch introduction Tutorials (https://pytorch.org/tutorials/)"
   ]
  },
  {
   "cell_type": "code",
   "execution_count": 2,
   "metadata": {},
   "outputs": [],
   "source": [
    "from IPython.display import clear_output\n",
    "\n",
    "import os\n",
    "import numpy as np\n",
    "import torch\n",
    "import torch.nn as nn\n",
    "from torch import optim\n",
    "import torch.nn.functional as F\n",
    "import matplotlib.pyplot as plt\n",
    "import pandas as pd\n",
    "import random\n",
    "from download import download_file_from_google_drive\n",
    "from common import load_data\n",
    "%matplotlib inline"
   ]
  },
  {
   "cell_type": "code",
   "execution_count": 3,
   "metadata": {},
   "outputs": [],
   "source": [
    "#####################\n",
    "# Set parameters\n",
    "#####################\n",
    "\n",
    "# Data params\n",
    "noise_var = 0\n",
    "num_datapoints = 100\n",
    "test_size = 0.2\n",
    "num_train = int((1 - test_size) * num_datapoints)\n",
    "\n",
    "# Network params\n",
    "input_size = 2\n",
    "hidden_layer = 128\n",
    "output_dim = input_size\n",
    "num_layers = 2\n",
    "num_epochs = 500\n",
    "dtype = torch.float\n",
    "input_seq = 60\n",
    "pred_length = 20\n",
    "batch_size = 32\n",
    "train_samples = 10\n",
    "test_samples = 100\n",
    "\n",
    "device = \"cpu\"  # torch.device(\"cuda\" if torch.cuda.is_available() else \"cpu\")"
   ]
  },
  {
   "cell_type": "markdown",
   "metadata": {},
   "source": [
    "## Load data\n",
    "The loading and preprocessing is based on the implementation of https://github.com/edwin-de-jong/incremental-sequence-learning.\n",
    "\n",
    "The Data is Downlaoded as numpy files from my personal Google Drive. \n",
    "Numpy Data available at https://drive.google.com/file/d/1uaVImXWqdbEhj9euCw8EMKJKsJ7uS7I2/view?usp=sharing\n",
    "\n",
    "If not possible the Dataset can also be downloaded from https://github.com/edwin-de-jong/mnist-digits-stroke-sequence-data/raw/master/sequences.tar.gz, extracted and processed by load_data()."
   ]
  },
  {
   "cell_type": "code",
   "execution_count": 6,
   "metadata": {},
   "outputs": [
    {
     "name": "stdout",
     "output_type": "stream",
     "text": [
      "(60000, 60, 2)\n",
      "(60000, 20, 2)\n"
     ]
    }
   ],
   "source": [
    "#####################\n",
    "# Load data\n",
    "#####################\n",
    "\n",
    "file_id = '1XHWS4PqmnMaR2pID0bPsVtVeohZpKgTF'\n",
    "destination = './extracted_data_label.npz'\n",
    "download_file_from_google_drive(file_id, destination)\n",
    "\n",
    "def prepare_data(data, train=True):\n",
    "    if train:\n",
    "        x = data[0:60000, 0:input_seq, :]\n",
    "        y = data[0:60000, input_seq:input_seq+pred_length, :]\n",
    "        x = x[0:int(x.shape[0] / batch_size) * batch_size, :]\n",
    "        y = y[0:int(x.shape[0] / batch_size) * batch_size, :]\n",
    "        return (x, y)\n",
    "    else:\n",
    "        x = data[60000:, 0:input_seq, :]\n",
    "        y = data[60000:, input_seq:input_seq+pred_length, :]\n",
    "        x = x[0:int(x.shape[0] / batch_size) * batch_size, :]\n",
    "        y = y[0:int(x.shape[0] / batch_size) * batch_size, :]\n",
    "        return (x, y)\n",
    "\n",
    "data, _ = load_data()\n",
    "(x_data, y_data) = prepare_data(data, train=True)\n",
    "(x_data_test, y_data_test) = prepare_data(data, train=False)\n",
    "\n",
    "output_seq = y_data.shape[1]\n",
    "print(x_data.shape)\n",
    "print(y_data.shape)"
   ]
  },
  {
   "cell_type": "code",
   "execution_count": 7,
   "metadata": {},
   "outputs": [
    {
     "name": "stdout",
     "output_type": "stream",
     "text": [
      "torch.Size([32, 60, 2])\n"
     ]
    },
    {
     "name": "stderr",
     "output_type": "stream",
     "text": [
      "c:\\users\\bdb9fe\\appdata\\local\\continuum\\anaconda3\\envs\\pt36\\lib\\site-packages\\matplotlib\\pyplot.py:3358: RuntimeWarning: Second argument 'y' is ambiguous: could be a color spec but is in data; using as data.  Either rename the entry in data or use three arguments to plot.\n",
      "  ret = ax.plot(*args, **kwargs)\n"
     ]
    },
    {
     "data": {
      "image/png": "[encoded data removed]",
      "text/plain": [
       "<Figure size 432x288 with 1 Axes>"
      ]
     },
     "metadata": {
      "needs_background": "light"
     },
     "output_type": "display_data"
    }
   ],
   "source": [
    "class BatchGenerator(object):\n",
    "    def __init__(self, data_x, data_y, batch_size=batch_size, output_seq=output_seq, n_action=2):\n",
    "        self.data_x = data_x  # np.reshape(data_x, (data_x.shape[0], -1))\n",
    "        self.data_y = data_y  # np.reshape(data_y, (data_y.shape[0], -1))\n",
    "        self.batch_size = batch_size\n",
    "        self.output_seq = output_seq\n",
    "        self.n_action = n_action\n",
    "\n",
    "    def sample(self, batch_size=None):\n",
    "        if batch_size is None:\n",
    "            batch_size = self.batch_size\n",
    "        indices = np.random.randint(0, len(self.data_x), batch_size)\n",
    "        x_batch = torch.tensor(self.data_x[indices, :, :]).to(torch.float)\n",
    "        y_batch = torch.tensor(self.data_y[indices, :, :]).to(torch.float)\n",
    "        return x_batch, y_batch\n",
    "\n",
    "\n",
    "def draw(sequence):\n",
    "    to_plot = np.array(sequence).squeeze(1)\n",
    "    df = pd.DataFrame({'x': to_plot[:, 0], 'y': to_plot[:, 1]})\n",
    "    plt.plot('x', 'y', data=df, linestyle='-', marker='o')\n",
    "\n",
    "train_data_generator = BatchGenerator(x_data, y_data, batch_size=batch_size)\n",
    "test_data_generator = BatchGenerator(x_data_test, y_data_test, batch_size=batch_size)\n",
    "\n",
    "x_batch, y_batch = train_data_generator.sample()\n",
    "print(x_batch.shape)\n",
    "draw(torch.cat((x_batch[0, :, :], y_batch[0, :, :]), 0).cpu().unsqueeze(1).numpy().astype(np.float))"
   ]
  },
  {
   "attachments": {
    "grafik.png": {
     "image/png": "[encoded data removed]"
    }
   },
   "cell_type": "markdown",
   "metadata": {},
   "source": [
    "## Build Model\n",
    "\n",
    "### Encoder\n",
    "\n",
    "An encoder RNN using a GRU layer is used to encode the input sequence. \n",
    "![grafik.png](attachment:grafik.png)"
   ]
  },
  {
   "cell_type": "code",
   "execution_count": null,
   "metadata": {},
   "outputs": [],
   "source": [
    "class EncoderRNN(nn.Module):\n",
    "    def __init__(self, input_size, hidden_size, batch_size=32):\n",
    "        super(EncoderRNN, self).__init__()\n",
    "        self.hidden_size = hidden_size\n",
    "        self.batch_size = batch_size\n",
    "\n",
    "        self.linear = nn.Linear(input_size, hidden_size)\n",
    "        self.gru = nn.GRU(hidden_size, hidden_size)\n",
    "\n",
    "    def forward(self, input, hidden):\n",
    "        batch_size = input.size(0)\n",
    "        output = self.linear(input).view(1, batch_size, -1)\n",
    "        output = F.relu(output)\n",
    "        output, hidden = self.gru(output, hidden)\n",
    "        return output, hidden\n",
    "\n",
    "    def initHidden(self):\n",
    "        return torch.zeros(1, self.batch_size, self.hidden_size, device=device)"
   ]
  },
  {
   "cell_type": "markdown",
   "metadata": {},
   "source": [
    "### Decoder\n",
    "The output sequence is predicted using the DecoderRNN which also uses a GRU layer.  "
   ]
  },
  {
   "cell_type": "code",
   "execution_count": 8,
   "metadata": {},
   "outputs": [],
   "source": [
    "class DecoderRNN(nn.Module):\n",
    "    def __init__(self, hidden_size, output_size, batch_size=32):\n",
    "        super(DecoderRNN, self).__init__()\n",
    "        self.hidden_size = hidden_size\n",
    "        self.batch_size = batch_size\n",
    "\n",
    "        self.linear = nn.Linear(output_size, hidden_size)\n",
    "        self.gru = nn.GRU(hidden_size, hidden_size)\n",
    "        self.out = nn.Linear(hidden_size, output_size)\n",
    "\n",
    "    def forward(self, input, hidden):\n",
    "        batch_size = input.size(0)\n",
    "        output = self.linear(input).view(1, batch_size, -1)\n",
    "        output = F.relu(output)\n",
    "        output, hidden = self.gru(output, hidden)\n",
    "        output = self.out(output[0])\n",
    "        return output, hidden\n",
    "\n",
    "    def initHidden(self):\n",
    "        return torch.zeros(1, self.batch_size, self.hidden_size, device=device)"
   ]
  },
  {
   "cell_type": "markdown",
   "metadata": {},
   "source": [
    "### Attention Decoder\n",
    "The AttnDecoderRNN uses a Attention layer which enables the Decoder to process all hidden states from the decoder and only paying attention to the neccessary ones. To use this RNN you have to change the training routine (you have to save all hidden states of the decoder and pass it to the attention decoder) "
   ]
  },
  {
   "cell_type": "code",
   "execution_count": null,
   "metadata": {},
   "outputs": [],
   "source": [
    "class AttnDecoderRNN(nn.Module):\n",
    "    def __init__(self, hidden_size, output_size, dropout_p=0.1, max_length=output_seq):\n",
    "        super(AttnDecoderRNN, self).__init__()\n",
    "        self.hidden_size = hidden_size\n",
    "        self.output_size = output_size\n",
    "        self.dropout_p = dropout_p\n",
    "        self.max_length = max_length\n",
    "\n",
    "        self.linear = nn.Linear(self.output_size, self.hidden_size)\n",
    "        self.attn = nn.Linear(self.hidden_size * 2, self.max_length)\n",
    "        self.attn_combine = nn.Linear(self.hidden_size * 2, self.hidden_size)\n",
    "        self.dropout = nn.Dropout(self.dropout_p)\n",
    "        self.gru = nn.GRU(self.hidden_size, self.hidden_size)\n",
    "        self.out = nn.Linear(self.hidden_size, self.output_size)\n",
    "\n",
    "    def forward(self, input, hidden, encoder_outputs):\n",
    "        embedded = self.linear(input).view(1, 1, -1)\n",
    "        embedded = self.dropout(embedded)\n",
    "\n",
    "        attn_weights = F.softmax(\n",
    "            self.attn(torch.cat((embedded[0], hidden[0]), 1)), dim=1)\n",
    "        attn_applied = torch.bmm(attn_weights.unsqueeze(0),\n",
    "                                 encoder_outputs.unsqueeze(0))\n",
    "\n",
    "        output = torch.cat((embedded[0], attn_applied[0]), 1)\n",
    "        output = self.attn_combine(output).unsqueeze(0)\n",
    "\n",
    "        output = F.relu(output)\n",
    "        output, hidden = self.gru(output, hidden)\n",
    "\n",
    "        output = self.out(output[0])\n",
    "        return output, hidden, attn_weights\n",
    "\n",
    "    def initHidden(self):\n",
    "        return torch.zeros(1, 1, self.hidden_size, device=device)\n",
    "\n",
    "hidden_size = 256\n",
    "encoder = EncoderRNN(input_size, hidden_layer, batch_size=batch_size).to(device)\n",
    "decoder = DecoderRNN(hidden_layer, output_dim, batch_size=batch_size).to(device)"
   ]
  },
  {
   "cell_type": "markdown",
   "metadata": {},
   "source": [
    "## Train Function\n",
    "The training function is similar to the first tutorial. This time we first encode the input sequence and than predict the output sequence using the decoder. \n",
    "\n",
    "“Teacher forcing” is the concept of using the real target outputs as each next input, instead of using the decoder’s guess as the next input. Using teacher forcing causes it to converge faster but when the trained network is exploited, it may exhibit instability. To avoid the instability it is randomly selected which approach is used to estimate the next input. "
   ]
  },
  {
   "cell_type": "code",
   "execution_count": 9,
   "metadata": {},
   "outputs": [],
   "source": [
    "#####################\n",
    "# Train Function\n",
    "#####################\n",
    "loss_fn = torch.nn.MSELoss()\n",
    "learning_rate = 5e-4\n",
    "# optimiser = torch.optim.Adam(rnn.parameters(), lr=learning_rate)\n",
    "encoder_optimizer = optim.SGD(encoder.parameters(), lr=learning_rate)\n",
    "decoder_optimizer = optim.SGD(decoder.parameters(), lr=learning_rate)\n",
    "teacher_forcing_ratio = 0.5\n",
    "\n",
    "\n",
    "def train(x_tensor, y_tensor):\n",
    "    encoder_hidden = encoder.initHidden()\n",
    "    encoder_optimizer.zero_grad()\n",
    "    decoder_optimizer.zero_grad()\n",
    "    loss = 0\n",
    "\n",
    "    for e_i in range(x_tensor.size()[1]):\n",
    "        input_tensor = x_tensor[:, e_i, :]\n",
    "        encoder_output, encoder_hidden = encoder(input_tensor, encoder_hidden)\n",
    "\n",
    "    decoder_input = input_tensor\n",
    "\n",
    "    decoder_hidden = encoder_hidden\n",
    "\n",
    "    use_teacher_forcing = True if random.random() < teacher_forcing_ratio else False\n",
    "\n",
    "    if use_teacher_forcing:\n",
    "        for d_i in range(y_tensor.size()[1]):\n",
    "            decoder_output, decoder_hidden = decoder(decoder_input, decoder_hidden)\n",
    "            l = loss_fn(decoder_output, y_tensor[:, d_i, :])\n",
    "            loss += l\n",
    "            decoder_input = y_tensor[:, d_i, :]\n",
    "    else:\n",
    "        for d_i in range(y_tensor.size()[1]):\n",
    "            decoder_output, decoder_hidden = decoder(decoder_input, decoder_hidden)\n",
    "            l = loss_fn(decoder_output, y_tensor[:, d_i, :])\n",
    "            loss += l\n",
    "            decoder_input = decoder_output\n",
    "\n",
    "    # Backward pass\n",
    "    loss.backward()\n",
    "\n",
    "    # Update parameters\n",
    "    encoder_optimizer.step()\n",
    "    decoder_optimizer.step()\n",
    "\n",
    "    return loss.item()\n",
    "\n",
    "def predict(x_tensor, y_tensor, batch_size):\n",
    "    with torch.no_grad():\n",
    "        encoder_hidden = torch.zeros(1, batch_size, encoder.hidden_size, device=device)  #  encoder.initHidden()\n",
    "        loss = 0\n",
    "        sequence = []\n",
    "        for e_i in range(x_tensor.size()[1]):\n",
    "            input_tensor = x_tensor[:, e_i, :]\n",
    "            encoder_output, encoder_hidden = encoder(input_tensor, encoder_hidden)\n",
    "            sequence.append(input_tensor.cpu().numpy().astype(np.float))\n",
    "\n",
    "        decoder_input = input_tensor\n",
    "\n",
    "        decoder_hidden = encoder_hidden\n",
    "\n",
    "        for d_i in range(y_tensor.size()[1]):\n",
    "            decoder_output, decoder_hidden = decoder(decoder_input, decoder_hidden)\n",
    "            l = loss_fn(decoder_output, y_tensor[:, d_i, :])\n",
    "            loss += l\n",
    "            decoder_input = decoder_output\n",
    "            sequence.append(decoder_output.cpu().numpy().astype(np.float))\n",
    "\n",
    "    return loss.item(), sequence"
   ]
  },
  {
   "cell_type": "markdown",
   "metadata": {},
   "source": [
    "## Train Model\n",
    "Since we have a bigger model and more data to process now the training may take a while to converge. "
   ]
  },
  {
   "cell_type": "code",
   "execution_count": 10,
   "metadata": {},
   "outputs": [
    {
     "name": "stdout",
     "output_type": "stream",
     "text": [
      "current_loss:  1384.8288513183593\n",
      "current_test_loss:  883.3004150390625\n",
      "current_loss:  743.1156066894531\n",
      "current_test_loss:  619.4346313476562\n",
      "current_loss:  531.9915893554687\n",
      "current_test_loss:  337.6059265136719\n",
      "current_loss:  517.8850067138671\n",
      "current_test_loss:  502.6859436035156\n",
      "current_loss:  409.39453125\n",
      "current_test_loss:  390.7309875488281\n",
      "current_loss:  403.6657440185547\n",
      "current_test_loss:  1051.936279296875\n",
      "current_loss:  445.6460296630859\n",
      "current_test_loss:  404.45233154296875\n",
      "current_loss:  394.38495178222655\n",
      "current_test_loss:  489.63543701171875\n",
      "current_loss:  341.2698440551758\n",
      "current_test_loss:  750.2383422851562\n"
     ]
    },
    {
     "ename": "KeyboardInterrupt",
     "evalue": "",
     "output_type": "error",
     "traceback": [
      "\u001b[1;31m---------------------------------------------------------------------------\u001b[0m",
      "\u001b[1;31mKeyboardInterrupt\u001b[0m                         Traceback (most recent call last)",
      "\u001b[1;32m<ipython-input-10-21f93de5744e>\u001b[0m in \u001b[0;36m<module>\u001b[1;34m\u001b[0m\n\u001b[0;32m     24\u001b[0m     \u001b[0mx_batch\u001b[0m\u001b[1;33m,\u001b[0m \u001b[0my_batch\u001b[0m \u001b[1;33m=\u001b[0m \u001b[0mtrain_data_generator\u001b[0m\u001b[1;33m.\u001b[0m\u001b[0msample\u001b[0m\u001b[1;33m(\u001b[0m\u001b[1;33m)\u001b[0m\u001b[1;33m\u001b[0m\u001b[0m\n\u001b[0;32m     25\u001b[0m     \u001b[1;31m# category, line, category_tensor, line_tensor = randomTrainingExample()\u001b[0m\u001b[1;33m\u001b[0m\u001b[1;33m\u001b[0m\u001b[0m\n\u001b[1;32m---> 26\u001b[1;33m     \u001b[0mloss\u001b[0m \u001b[1;33m=\u001b[0m \u001b[0mtrain\u001b[0m\u001b[1;33m(\u001b[0m\u001b[0mx_batch\u001b[0m\u001b[1;33m,\u001b[0m \u001b[0my_batch\u001b[0m\u001b[1;33m)\u001b[0m\u001b[1;33m\u001b[0m\u001b[0m\n\u001b[0m\u001b[0;32m     27\u001b[0m     \u001b[0mcurrent_loss\u001b[0m \u001b[1;33m+=\u001b[0m \u001b[0mloss\u001b[0m\u001b[1;33m\u001b[0m\u001b[0m\n\u001b[0;32m     28\u001b[0m \u001b[1;33m\u001b[0m\u001b[0m\n",
      "\u001b[1;32m<ipython-input-9-59599ec0117c>\u001b[0m in \u001b[0;36mtrain\u001b[1;34m(x_tensor, y_tensor)\u001b[0m\n\u001b[0;32m     40\u001b[0m \u001b[1;33m\u001b[0m\u001b[0m\n\u001b[0;32m     41\u001b[0m     \u001b[1;31m# Backward pass\u001b[0m\u001b[1;33m\u001b[0m\u001b[1;33m\u001b[0m\u001b[0m\n\u001b[1;32m---> 42\u001b[1;33m     \u001b[0mloss\u001b[0m\u001b[1;33m.\u001b[0m\u001b[0mbackward\u001b[0m\u001b[1;33m(\u001b[0m\u001b[1;33m)\u001b[0m\u001b[1;33m\u001b[0m\u001b[0m\n\u001b[0m\u001b[0;32m     43\u001b[0m \u001b[1;33m\u001b[0m\u001b[0m\n\u001b[0;32m     44\u001b[0m     \u001b[1;31m# Update parameters\u001b[0m\u001b[1;33m\u001b[0m\u001b[1;33m\u001b[0m\u001b[0m\n",
      "\u001b[1;32mc:\\users\\bdb9fe\\appdata\\local\\continuum\\anaconda3\\envs\\pt36\\lib\\site-packages\\torch\\tensor.py\u001b[0m in \u001b[0;36mbackward\u001b[1;34m(self, gradient, retain_graph, create_graph)\u001b[0m\n\u001b[0;32m    105\u001b[0m                 \u001b[0mproducts\u001b[0m\u001b[1;33m.\u001b[0m \u001b[0mDefaults\u001b[0m \u001b[0mto\u001b[0m\u001b[0;31m \u001b[0m\u001b[0;31m`\u001b[0m\u001b[0;31m`\u001b[0m\u001b[1;32mFalse\u001b[0m\u001b[0;31m`\u001b[0m\u001b[0;31m`\u001b[0m\u001b[1;33m.\u001b[0m\u001b[1;33m\u001b[0m\u001b[0m\n\u001b[0;32m    106\u001b[0m         \"\"\"\n\u001b[1;32m--> 107\u001b[1;33m         \u001b[0mtorch\u001b[0m\u001b[1;33m.\u001b[0m\u001b[0mautograd\u001b[0m\u001b[1;33m.\u001b[0m\u001b[0mbackward\u001b[0m\u001b[1;33m(\u001b[0m\u001b[0mself\u001b[0m\u001b[1;33m,\u001b[0m \u001b[0mgradient\u001b[0m\u001b[1;33m,\u001b[0m \u001b[0mretain_graph\u001b[0m\u001b[1;33m,\u001b[0m \u001b[0mcreate_graph\u001b[0m\u001b[1;33m)\u001b[0m\u001b[1;33m\u001b[0m\u001b[0m\n\u001b[0m\u001b[0;32m    108\u001b[0m \u001b[1;33m\u001b[0m\u001b[0m\n\u001b[0;32m    109\u001b[0m     \u001b[1;32mdef\u001b[0m \u001b[0mregister_hook\u001b[0m\u001b[1;33m(\u001b[0m\u001b[0mself\u001b[0m\u001b[1;33m,\u001b[0m \u001b[0mhook\u001b[0m\u001b[1;33m)\u001b[0m\u001b[1;33m:\u001b[0m\u001b[1;33m\u001b[0m\u001b[0m\n",
      "\u001b[1;32mc:\\users\\bdb9fe\\appdata\\local\\continuum\\anaconda3\\envs\\pt36\\lib\\site-packages\\torch\\autograd\\__init__.py\u001b[0m in \u001b[0;36mbackward\u001b[1;34m(tensors, grad_tensors, retain_graph, create_graph, grad_variables)\u001b[0m\n\u001b[0;32m     91\u001b[0m     Variable._execution_engine.run_backward(\n\u001b[0;32m     92\u001b[0m         \u001b[0mtensors\u001b[0m\u001b[1;33m,\u001b[0m \u001b[0mgrad_tensors\u001b[0m\u001b[1;33m,\u001b[0m \u001b[0mretain_graph\u001b[0m\u001b[1;33m,\u001b[0m \u001b[0mcreate_graph\u001b[0m\u001b[1;33m,\u001b[0m\u001b[1;33m\u001b[0m\u001b[0m\n\u001b[1;32m---> 93\u001b[1;33m         allow_unreachable=True)  # allow_unreachable flag\n\u001b[0m\u001b[0;32m     94\u001b[0m \u001b[1;33m\u001b[0m\u001b[0m\n\u001b[0;32m     95\u001b[0m \u001b[1;33m\u001b[0m\u001b[0m\n",
      "\u001b[1;31mKeyboardInterrupt\u001b[0m: "
     ]
    }
   ],
   "source": [
    "import time\n",
    "import math\n",
    "\n",
    "n_iters = 200000\n",
    "plot_every = 1000\n",
    "test_size = batch_size\n",
    "\n",
    "# Keep track of losses for plotting\n",
    "current_loss = 0\n",
    "all_losses = []\n",
    "all_test_losses = []\n",
    "\n",
    "\n",
    "def timeSince(since):\n",
    "    now = time.time()\n",
    "    s = now - since\n",
    "    m = math.floor(s / 60)\n",
    "    s -= m * 60\n",
    "    return '%dm %ds' % (m, s)\n",
    "\n",
    "start = time.time()\n",
    "\n",
    "for iter in range(1, n_iters + 1):\n",
    "    x_batch, y_batch = train_data_generator.sample()\n",
    "    # category, line, category_tensor, line_tensor = randomTrainingExample()\n",
    "    loss = train(x_batch, y_batch)\n",
    "    current_loss += loss\n",
    "\n",
    "    # Add current loss avg to list of losses\n",
    "    if iter % plot_every == 0:\n",
    "        print(\"current_loss: \", current_loss/plot_every)\n",
    "        all_losses.append(current_loss/plot_every)\n",
    "        current_loss = 0\n",
    "        # test_loss\n",
    "        x_test_batch, y_test_batch = test_data_generator.sample(batch_size=test_size)\n",
    "        test_loss, _ = predict(x_test_batch, y_test_batch, batch_size=test_size)\n",
    "        print(\"current_test_loss: \", test_loss)\n",
    "        all_test_losses.append(test_loss)\n",
    "\n",
    "x_test_batch, y_test_batch = test_data_generator.sample(batch_size=5)\n",
    "for i in range(y_test_batch.size()[0]):\n",
    "    test_loss, sequence = predict(x_test_batch[i, :, :].unsqueeze(0), y_test_batch[i, :, :].unsqueeze(0), batch_size=1)\n",
    "    draw(sequence)\n",
    "\n",
    "plt.figure()\n",
    "plt.plot(all_losses)\n",
    "plt.plot(all_test_losses)"
   ]
  },
  {
   "cell_type": "code",
   "execution_count": null,
   "metadata": {},
   "outputs": [],
   "source": []
  }
 ],
 "metadata": {
  "kernelspec": {
   "display_name": "Python 3",
   "language": "python",
   "name": "python3"
  },
  "language_info": {
   "codemirror_mode": {
    "name": "ipython",
    "version": 3
   },
   "file_extension": ".py",
   "mimetype": "text/x-python",
   "name": "python",
   "nbconvert_exporter": "python",
   "pygments_lexer": "ipython3",
   "version": "3.6.6"
  },
  "pycharm": {
   "stem_cell": {
    "cell_type": "raw",
    "metadata": {
     "collapsed": false
    },
    "source": []
   }
  }
 },
 "nbformat": 4,
 "nbformat_minor": 4
}
